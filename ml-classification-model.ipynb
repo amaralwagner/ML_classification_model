{
 "cells": [
  {
   "cell_type": "markdown",
   "id": "3ceec760",
   "metadata": {
    "papermill": {
     "duration": 0.002515,
     "end_time": "2024-09-09T16:37:14.855191",
     "exception": false,
     "start_time": "2024-09-09T16:37:14.852676",
     "status": "completed"
    },
    "tags": []
   },
   "source": [
    "Dataset: https://www.kaggle.com/datasets/andrewmvd/heart-failure-clinical-data"
   ]
  },
  {
   "cell_type": "code",
   "execution_count": 1,
   "id": "68eff1e1",
   "metadata": {
    "_cell_guid": "b1076dfc-b9ad-4769-8c92-a6c4dae69d19",
    "_uuid": "8f2839f25d086af736a60e9eeb907d3b93b6e0e5",
    "execution": {
     "iopub.execute_input": "2024-09-09T16:37:14.861233Z",
     "iopub.status.busy": "2024-09-09T16:37:14.860796Z",
     "iopub.status.idle": "2024-09-09T16:37:15.295336Z",
     "shell.execute_reply": "2024-09-09T16:37:15.293747Z"
    },
    "papermill": {
     "duration": 0.441115,
     "end_time": "2024-09-09T16:37:15.298553",
     "exception": false,
     "start_time": "2024-09-09T16:37:14.857438",
     "status": "completed"
    },
    "tags": []
   },
   "outputs": [
    {
     "name": "stdout",
     "output_type": "stream",
     "text": [
      "/kaggle/input/heart-failure-clinical-data/heart_failure_clinical_records_dataset.csv\n"
     ]
    }
   ],
   "source": [
    "import numpy as np # linear algebra\n",
    "import pandas as pd # data processing, CSV file I/O (e.g. pd.read_csv)\n",
    "\n",
    "import os\n",
    "for dirname, _, filenames in os.walk('/kaggle/input'):\n",
    "    for filename in filenames:\n",
    "        print(os.path.join(dirname, filename))"
   ]
  },
  {
   "cell_type": "code",
   "execution_count": 2,
   "id": "70304488",
   "metadata": {
    "execution": {
     "iopub.execute_input": "2024-09-09T16:37:15.306293Z",
     "iopub.status.busy": "2024-09-09T16:37:15.305696Z",
     "iopub.status.idle": "2024-09-09T16:37:17.923821Z",
     "shell.execute_reply": "2024-09-09T16:37:17.922522Z"
    },
    "papermill": {
     "duration": 2.625138,
     "end_time": "2024-09-09T16:37:17.927115",
     "exception": false,
     "start_time": "2024-09-09T16:37:15.301977",
     "status": "completed"
    },
    "tags": []
   },
   "outputs": [],
   "source": [
    "from sklearn.model_selection import train_test_split\n",
    "from sklearn.compose import ColumnTransformer\n",
    "import category_encoders as ce\n",
    "from sklearn.pipeline import Pipeline\n",
    "\n",
    "from sklearn.tree import DecisionTreeClassifier"
   ]
  },
  {
   "cell_type": "code",
   "execution_count": null,
   "id": "a2a47e26",
   "metadata": {
    "papermill": {
     "duration": 0.002722,
     "end_time": "2024-09-09T16:37:17.933037",
     "exception": false,
     "start_time": "2024-09-09T16:37:17.930315",
     "status": "completed"
    },
    "tags": []
   },
   "outputs": [],
   "source": []
  }
 ],
 "metadata": {
  "kaggle": {
   "accelerator": "none",
   "dataSources": [
    {
     "datasetId": 727551,
     "sourceId": 1263738,
     "sourceType": "datasetVersion"
    }
   ],
   "dockerImageVersionId": 30761,
   "isGpuEnabled": false,
   "isInternetEnabled": true,
   "language": "python",
   "sourceType": "notebook"
  },
  "kernelspec": {
   "display_name": "Python 3",
   "language": "python",
   "name": "python3"
  },
  "language_info": {
   "codemirror_mode": {
    "name": "ipython",
    "version": 3
   },
   "file_extension": ".py",
   "mimetype": "text/x-python",
   "name": "python",
   "nbconvert_exporter": "python",
   "pygments_lexer": "ipython3",
   "version": "3.10.14"
  },
  "papermill": {
   "default_parameters": {},
   "duration": 6.632797,
   "end_time": "2024-09-09T16:37:18.660346",
   "environment_variables": {},
   "exception": null,
   "input_path": "__notebook__.ipynb",
   "output_path": "__notebook__.ipynb",
   "parameters": {},
   "start_time": "2024-09-09T16:37:12.027549",
   "version": "2.6.0"
  }
 },
 "nbformat": 4,
 "nbformat_minor": 5
}
