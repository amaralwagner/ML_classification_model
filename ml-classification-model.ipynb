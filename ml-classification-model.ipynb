{
 "cells": [
  {
   "cell_type": "markdown",
   "id": "92e08097",
   "metadata": {
    "papermill": {
     "duration": 0.008655,
     "end_time": "2024-09-09T19:57:01.606446",
     "exception": false,
     "start_time": "2024-09-09T19:57:01.597791",
     "status": "completed"
    },
    "tags": []
   },
   "source": [
    "Dataset: https://www.kaggle.com/datasets/andrewmvd/heart-failure-clinical-data"
   ]
  },
  {
   "cell_type": "code",
   "execution_count": 1,
   "id": "4bbef66a",
   "metadata": {
    "_cell_guid": "b1076dfc-b9ad-4769-8c92-a6c4dae69d19",
    "_uuid": "8f2839f25d086af736a60e9eeb907d3b93b6e0e5",
    "execution": {
     "iopub.execute_input": "2024-09-09T19:57:01.624683Z",
     "iopub.status.busy": "2024-09-09T19:57:01.623741Z",
     "iopub.status.idle": "2024-09-09T19:57:02.444001Z",
     "shell.execute_reply": "2024-09-09T19:57:02.442643Z"
    },
    "papermill": {
     "duration": 0.832306,
     "end_time": "2024-09-09T19:57:02.446680",
     "exception": false,
     "start_time": "2024-09-09T19:57:01.614374",
     "status": "completed"
    },
    "tags": []
   },
   "outputs": [
    {
     "name": "stdout",
     "output_type": "stream",
     "text": [
      "/kaggle/input/heart-failure-clinical-data/heart_failure_clinical_records_dataset.csv\n"
     ]
    }
   ],
   "source": [
    "import numpy as np # linear algebra\n",
    "import pandas as pd # data processing, CSV file I/O (e.g. pd.read_csv)\n",
    "\n",
    "import os\n",
    "for dirname, _, filenames in os.walk('/kaggle/input'):\n",
    "    for filename in filenames:\n",
    "        print(os.path.join(dirname, filename))"
   ]
  },
  {
   "cell_type": "code",
   "execution_count": 2,
   "id": "2dafe146",
   "metadata": {
    "execution": {
     "iopub.execute_input": "2024-09-09T19:57:02.465305Z",
     "iopub.status.busy": "2024-09-09T19:57:02.464739Z",
     "iopub.status.idle": "2024-09-09T19:57:04.720803Z",
     "shell.execute_reply": "2024-09-09T19:57:04.719542Z"
    },
    "papermill": {
     "duration": 2.268396,
     "end_time": "2024-09-09T19:57:04.723427",
     "exception": false,
     "start_time": "2024-09-09T19:57:02.455031",
     "status": "completed"
    },
    "tags": []
   },
   "outputs": [],
   "source": [
    "from sklearn.model_selection import train_test_split\n",
    "from sklearn.compose import ColumnTransformer\n",
    "import category_encoders as ce\n",
    "from sklearn.pipeline import Pipeline\n",
    "from sklearn.impute import SimpleImputer\n",
    "\n",
    "from sklearn.tree import DecisionTreeClassifier"
   ]
  },
  {
   "cell_type": "code",
   "execution_count": 3,
   "id": "152ca0ef",
   "metadata": {
    "execution": {
     "iopub.execute_input": "2024-09-09T19:57:04.741417Z",
     "iopub.status.busy": "2024-09-09T19:57:04.740797Z",
     "iopub.status.idle": "2024-09-09T19:57:04.788268Z",
     "shell.execute_reply": "2024-09-09T19:57:04.787183Z"
    },
    "papermill": {
     "duration": 0.059373,
     "end_time": "2024-09-09T19:57:04.790889",
     "exception": false,
     "start_time": "2024-09-09T19:57:04.731516",
     "status": "completed"
    },
    "tags": []
   },
   "outputs": [
    {
     "data": {
      "text/html": [
       "<div>\n",
       "<style scoped>\n",
       "    .dataframe tbody tr th:only-of-type {\n",
       "        vertical-align: middle;\n",
       "    }\n",
       "\n",
       "    .dataframe tbody tr th {\n",
       "        vertical-align: top;\n",
       "    }\n",
       "\n",
       "    .dataframe thead th {\n",
       "        text-align: right;\n",
       "    }\n",
       "</style>\n",
       "<table border=\"1\" class=\"dataframe\">\n",
       "  <thead>\n",
       "    <tr style=\"text-align: right;\">\n",
       "      <th></th>\n",
       "      <th>age</th>\n",
       "      <th>anaemia</th>\n",
       "      <th>creatinine_phosphokinase</th>\n",
       "      <th>diabetes</th>\n",
       "      <th>ejection_fraction</th>\n",
       "      <th>high_blood_pressure</th>\n",
       "      <th>platelets</th>\n",
       "      <th>serum_creatinine</th>\n",
       "      <th>serum_sodium</th>\n",
       "      <th>sex</th>\n",
       "      <th>smoking</th>\n",
       "      <th>time</th>\n",
       "      <th>DEATH_EVENT</th>\n",
       "    </tr>\n",
       "  </thead>\n",
       "  <tbody>\n",
       "    <tr>\n",
       "      <th>0</th>\n",
       "      <td>75.0</td>\n",
       "      <td>0</td>\n",
       "      <td>582</td>\n",
       "      <td>0</td>\n",
       "      <td>20</td>\n",
       "      <td>1</td>\n",
       "      <td>265000.00</td>\n",
       "      <td>1.9</td>\n",
       "      <td>130</td>\n",
       "      <td>1</td>\n",
       "      <td>0</td>\n",
       "      <td>4</td>\n",
       "      <td>1</td>\n",
       "    </tr>\n",
       "    <tr>\n",
       "      <th>1</th>\n",
       "      <td>55.0</td>\n",
       "      <td>0</td>\n",
       "      <td>7861</td>\n",
       "      <td>0</td>\n",
       "      <td>38</td>\n",
       "      <td>0</td>\n",
       "      <td>263358.03</td>\n",
       "      <td>1.1</td>\n",
       "      <td>136</td>\n",
       "      <td>1</td>\n",
       "      <td>0</td>\n",
       "      <td>6</td>\n",
       "      <td>1</td>\n",
       "    </tr>\n",
       "    <tr>\n",
       "      <th>2</th>\n",
       "      <td>65.0</td>\n",
       "      <td>0</td>\n",
       "      <td>146</td>\n",
       "      <td>0</td>\n",
       "      <td>20</td>\n",
       "      <td>0</td>\n",
       "      <td>162000.00</td>\n",
       "      <td>1.3</td>\n",
       "      <td>129</td>\n",
       "      <td>1</td>\n",
       "      <td>1</td>\n",
       "      <td>7</td>\n",
       "      <td>1</td>\n",
       "    </tr>\n",
       "    <tr>\n",
       "      <th>3</th>\n",
       "      <td>50.0</td>\n",
       "      <td>1</td>\n",
       "      <td>111</td>\n",
       "      <td>0</td>\n",
       "      <td>20</td>\n",
       "      <td>0</td>\n",
       "      <td>210000.00</td>\n",
       "      <td>1.9</td>\n",
       "      <td>137</td>\n",
       "      <td>1</td>\n",
       "      <td>0</td>\n",
       "      <td>7</td>\n",
       "      <td>1</td>\n",
       "    </tr>\n",
       "    <tr>\n",
       "      <th>4</th>\n",
       "      <td>65.0</td>\n",
       "      <td>1</td>\n",
       "      <td>160</td>\n",
       "      <td>1</td>\n",
       "      <td>20</td>\n",
       "      <td>0</td>\n",
       "      <td>327000.00</td>\n",
       "      <td>2.7</td>\n",
       "      <td>116</td>\n",
       "      <td>0</td>\n",
       "      <td>0</td>\n",
       "      <td>8</td>\n",
       "      <td>1</td>\n",
       "    </tr>\n",
       "  </tbody>\n",
       "</table>\n",
       "</div>"
      ],
      "text/plain": [
       "    age  anaemia  creatinine_phosphokinase  diabetes  ejection_fraction  \\\n",
       "0  75.0        0                       582         0                 20   \n",
       "1  55.0        0                      7861         0                 38   \n",
       "2  65.0        0                       146         0                 20   \n",
       "3  50.0        1                       111         0                 20   \n",
       "4  65.0        1                       160         1                 20   \n",
       "\n",
       "   high_blood_pressure  platelets  serum_creatinine  serum_sodium  sex  \\\n",
       "0                    1  265000.00               1.9           130    1   \n",
       "1                    0  263358.03               1.1           136    1   \n",
       "2                    0  162000.00               1.3           129    1   \n",
       "3                    0  210000.00               1.9           137    1   \n",
       "4                    0  327000.00               2.7           116    0   \n",
       "\n",
       "   smoking  time  DEATH_EVENT  \n",
       "0        0     4            1  \n",
       "1        0     6            1  \n",
       "2        1     7            1  \n",
       "3        0     7            1  \n",
       "4        0     8            1  "
      ]
     },
     "execution_count": 3,
     "metadata": {},
     "output_type": "execute_result"
    }
   ],
   "source": [
    "heart_data = pd.read_csv('/kaggle/input/heart-failure-clinical-data/heart_failure_clinical_records_dataset.csv')\n",
    "heart_data.head()"
   ]
  },
  {
   "cell_type": "code",
   "execution_count": 4,
   "id": "7d5ff182",
   "metadata": {
    "execution": {
     "iopub.execute_input": "2024-09-09T19:57:04.808907Z",
     "iopub.status.busy": "2024-09-09T19:57:04.808233Z",
     "iopub.status.idle": "2024-09-09T19:57:04.831264Z",
     "shell.execute_reply": "2024-09-09T19:57:04.830175Z"
    },
    "papermill": {
     "duration": 0.035116,
     "end_time": "2024-09-09T19:57:04.834210",
     "exception": false,
     "start_time": "2024-09-09T19:57:04.799094",
     "status": "completed"
    },
    "tags": []
   },
   "outputs": [
    {
     "name": "stdout",
     "output_type": "stream",
     "text": [
      "<class 'pandas.core.frame.DataFrame'>\n",
      "RangeIndex: 299 entries, 0 to 298\n",
      "Data columns (total 13 columns):\n",
      " #   Column                    Non-Null Count  Dtype  \n",
      "---  ------                    --------------  -----  \n",
      " 0   age                       299 non-null    float64\n",
      " 1   anaemia                   299 non-null    int64  \n",
      " 2   creatinine_phosphokinase  299 non-null    int64  \n",
      " 3   diabetes                  299 non-null    int64  \n",
      " 4   ejection_fraction         299 non-null    int64  \n",
      " 5   high_blood_pressure       299 non-null    int64  \n",
      " 6   platelets                 299 non-null    float64\n",
      " 7   serum_creatinine          299 non-null    float64\n",
      " 8   serum_sodium              299 non-null    int64  \n",
      " 9   sex                       299 non-null    int64  \n",
      " 10  smoking                   299 non-null    int64  \n",
      " 11  time                      299 non-null    int64  \n",
      " 12  DEATH_EVENT               299 non-null    int64  \n",
      "dtypes: float64(3), int64(10)\n",
      "memory usage: 30.5 KB\n"
     ]
    }
   ],
   "source": [
    "heart_data.info()"
   ]
  },
  {
   "cell_type": "code",
   "execution_count": 5,
   "id": "398b9496",
   "metadata": {
    "execution": {
     "iopub.execute_input": "2024-09-09T19:57:04.852792Z",
     "iopub.status.busy": "2024-09-09T19:57:04.852327Z",
     "iopub.status.idle": "2024-09-09T19:57:04.866339Z",
     "shell.execute_reply": "2024-09-09T19:57:04.865182Z"
    },
    "papermill": {
     "duration": 0.025857,
     "end_time": "2024-09-09T19:57:04.868629",
     "exception": false,
     "start_time": "2024-09-09T19:57:04.842772",
     "status": "completed"
    },
    "tags": []
   },
   "outputs": [
    {
     "data": {
      "text/plain": [
       "anaemia                       2\n",
       "diabetes                      2\n",
       "high_blood_pressure           2\n",
       "sex                           2\n",
       "smoking                       2\n",
       "DEATH_EVENT                   2\n",
       "ejection_fraction            17\n",
       "serum_sodium                 27\n",
       "serum_creatinine             40\n",
       "age                          47\n",
       "time                        148\n",
       "platelets                   176\n",
       "creatinine_phosphokinase    208\n",
       "dtype: int64"
      ]
     },
     "execution_count": 5,
     "metadata": {},
     "output_type": "execute_result"
    }
   ],
   "source": [
    "heart_data.nunique().sort_values()"
   ]
  },
  {
   "cell_type": "code",
   "execution_count": 6,
   "id": "6e1bf242",
   "metadata": {
    "execution": {
     "iopub.execute_input": "2024-09-09T19:57:04.887386Z",
     "iopub.status.busy": "2024-09-09T19:57:04.886985Z",
     "iopub.status.idle": "2024-09-09T19:57:04.892434Z",
     "shell.execute_reply": "2024-09-09T19:57:04.891407Z"
    },
    "papermill": {
     "duration": 0.017772,
     "end_time": "2024-09-09T19:57:04.894853",
     "exception": false,
     "start_time": "2024-09-09T19:57:04.877081",
     "status": "completed"
    },
    "tags": []
   },
   "outputs": [],
   "source": [
    "# Definindo features numéricas e categóricas.\n",
    "# Quando a feature é 0 ou 1, dummies, o correto é que seja nunérica também, mas para o estudo, vamos transformar diabetes de 0 e 1 para Yes e No e considerar essa variável categórica."
   ]
  },
  {
   "cell_type": "code",
   "execution_count": 7,
   "id": "4bc601e4",
   "metadata": {
    "execution": {
     "iopub.execute_input": "2024-09-09T19:57:04.913978Z",
     "iopub.status.busy": "2024-09-09T19:57:04.913002Z",
     "iopub.status.idle": "2024-09-09T19:57:04.920151Z",
     "shell.execute_reply": "2024-09-09T19:57:04.919011Z"
    },
    "papermill": {
     "duration": 0.019369,
     "end_time": "2024-09-09T19:57:04.922560",
     "exception": false,
     "start_time": "2024-09-09T19:57:04.903191",
     "status": "completed"
    },
    "tags": []
   },
   "outputs": [],
   "source": [
    "heart_data[\"diabetes\"] = heart_data[\"diabetes\"].map({1: \"yes\", 0: \"no\"})\n"
   ]
  },
  {
   "cell_type": "code",
   "execution_count": 8,
   "id": "b527c016",
   "metadata": {
    "execution": {
     "iopub.execute_input": "2024-09-09T19:57:04.942321Z",
     "iopub.status.busy": "2024-09-09T19:57:04.941249Z",
     "iopub.status.idle": "2024-09-09T19:57:04.950090Z",
     "shell.execute_reply": "2024-09-09T19:57:04.948922Z"
    },
    "papermill": {
     "duration": 0.021317,
     "end_time": "2024-09-09T19:57:04.952651",
     "exception": false,
     "start_time": "2024-09-09T19:57:04.931334",
     "status": "completed"
    },
    "tags": []
   },
   "outputs": [
    {
     "data": {
      "text/plain": [
       "diabetes\n",
       "no     174\n",
       "yes    125\n",
       "Name: count, dtype: int64"
      ]
     },
     "execution_count": 8,
     "metadata": {},
     "output_type": "execute_result"
    }
   ],
   "source": [
    "#Checando mudança:\n",
    "heart_data[\"diabetes\"].value_counts()"
   ]
  },
  {
   "cell_type": "code",
   "execution_count": 9,
   "id": "477c4910",
   "metadata": {
    "execution": {
     "iopub.execute_input": "2024-09-09T19:57:04.971988Z",
     "iopub.status.busy": "2024-09-09T19:57:04.971584Z",
     "iopub.status.idle": "2024-09-09T19:57:04.976488Z",
     "shell.execute_reply": "2024-09-09T19:57:04.975434Z"
    },
    "papermill": {
     "duration": 0.017431,
     "end_time": "2024-09-09T19:57:04.978799",
     "exception": false,
     "start_time": "2024-09-09T19:57:04.961368",
     "status": "completed"
    },
    "tags": []
   },
   "outputs": [],
   "source": [
    "# Modelagem, #Modelo de Machine Learning"
   ]
  },
  {
   "cell_type": "code",
   "execution_count": 10,
   "id": "96ef4d99",
   "metadata": {
    "execution": {
     "iopub.execute_input": "2024-09-09T19:57:04.997696Z",
     "iopub.status.busy": "2024-09-09T19:57:04.997281Z",
     "iopub.status.idle": "2024-09-09T19:57:05.004749Z",
     "shell.execute_reply": "2024-09-09T19:57:05.003611Z"
    },
    "papermill": {
     "duration": 0.019788,
     "end_time": "2024-09-09T19:57:05.007177",
     "exception": false,
     "start_time": "2024-09-09T19:57:04.987389",
     "status": "completed"
    },
    "tags": []
   },
   "outputs": [
    {
     "data": {
      "text/plain": [
       "Index(['age', 'anaemia', 'creatinine_phosphokinase', 'diabetes',\n",
       "       'ejection_fraction', 'high_blood_pressure', 'platelets',\n",
       "       'serum_creatinine', 'serum_sodium', 'sex', 'smoking', 'time',\n",
       "       'DEATH_EVENT'],\n",
       "      dtype='object')"
      ]
     },
     "execution_count": 10,
     "metadata": {},
     "output_type": "execute_result"
    }
   ],
   "source": [
    "heart_data.columns"
   ]
  },
  {
   "cell_type": "code",
   "execution_count": 11,
   "id": "048efeac",
   "metadata": {
    "execution": {
     "iopub.execute_input": "2024-09-09T19:57:05.026436Z",
     "iopub.status.busy": "2024-09-09T19:57:05.026020Z",
     "iopub.status.idle": "2024-09-09T19:57:05.031635Z",
     "shell.execute_reply": "2024-09-09T19:57:05.030660Z"
    },
    "papermill": {
     "duration": 0.018295,
     "end_time": "2024-09-09T19:57:05.034058",
     "exception": false,
     "start_time": "2024-09-09T19:57:05.015763",
     "status": "completed"
    },
    "tags": []
   },
   "outputs": [],
   "source": [
    "features = ['age', 'anaemia', 'creatinine_phosphokinase', 'diabetes',\n",
    "       'ejection_fraction', 'high_blood_pressure', 'platelets',\n",
    "       'serum_creatinine', 'serum_sodium', 'sex', 'smoking', 'time']\n",
    "target = 'DEATH_EVENT'"
   ]
  },
  {
   "cell_type": "code",
   "execution_count": 12,
   "id": "fa6e36fa",
   "metadata": {
    "execution": {
     "iopub.execute_input": "2024-09-09T19:57:05.053811Z",
     "iopub.status.busy": "2024-09-09T19:57:05.053356Z",
     "iopub.status.idle": "2024-09-09T19:57:05.061739Z",
     "shell.execute_reply": "2024-09-09T19:57:05.060583Z"
    },
    "papermill": {
     "duration": 0.021031,
     "end_time": "2024-09-09T19:57:05.064008",
     "exception": false,
     "start_time": "2024-09-09T19:57:05.042977",
     "status": "completed"
    },
    "tags": []
   },
   "outputs": [],
   "source": [
    "X = heart_data[features]\n",
    "y = heart_data[target]"
   ]
  },
  {
   "cell_type": "code",
   "execution_count": 13,
   "id": "06d25f48",
   "metadata": {
    "execution": {
     "iopub.execute_input": "2024-09-09T19:57:05.083872Z",
     "iopub.status.busy": "2024-09-09T19:57:05.083062Z",
     "iopub.status.idle": "2024-09-09T19:57:05.094679Z",
     "shell.execute_reply": "2024-09-09T19:57:05.093417Z"
    },
    "papermill": {
     "duration": 0.024314,
     "end_time": "2024-09-09T19:57:05.097226",
     "exception": false,
     "start_time": "2024-09-09T19:57:05.072912",
     "status": "completed"
    },
    "tags": []
   },
   "outputs": [],
   "source": [
    "X_train, X_test, y_train, y_test = train_test_split(X, y, test_size=0.2, random_state=42)"
   ]
  },
  {
   "cell_type": "code",
   "execution_count": 14,
   "id": "12bf3486",
   "metadata": {
    "execution": {
     "iopub.execute_input": "2024-09-09T19:57:05.116765Z",
     "iopub.status.busy": "2024-09-09T19:57:05.115967Z",
     "iopub.status.idle": "2024-09-09T19:57:05.122302Z",
     "shell.execute_reply": "2024-09-09T19:57:05.121016Z"
    },
    "papermill": {
     "duration": 0.018481,
     "end_time": "2024-09-09T19:57:05.124723",
     "exception": false,
     "start_time": "2024-09-09T19:57:05.106242",
     "status": "completed"
    },
    "tags": []
   },
   "outputs": [],
   "source": [
    "cat_features = [\"diabetes\"]\n",
    "num_features = ['age', 'anaemia', 'creatinine_phosphokinase', \n",
    "       'ejection_fraction', 'high_blood_pressure', 'platelets',\n",
    "       'serum_creatinine', 'serum_sodium', 'sex', 'smoking', 'time']"
   ]
  },
  {
   "cell_type": "code",
   "execution_count": 15,
   "id": "2fa17925",
   "metadata": {
    "execution": {
     "iopub.execute_input": "2024-09-09T19:57:05.144914Z",
     "iopub.status.busy": "2024-09-09T19:57:05.144442Z",
     "iopub.status.idle": "2024-09-09T19:57:05.190787Z",
     "shell.execute_reply": "2024-09-09T19:57:05.189726Z"
    },
    "papermill": {
     "duration": 0.05957,
     "end_time": "2024-09-09T19:57:05.193564",
     "exception": false,
     "start_time": "2024-09-09T19:57:05.133994",
     "status": "completed"
    },
    "tags": []
   },
   "outputs": [],
   "source": [
    "categorical_pipe = Pipeline(\n",
    "    [\n",
    "        (\"imputer\", SimpleImputer(strategy='most_frequent')),\n",
    "        (\"encoder\", ce.TargetEncoder()),\n",
    "    ]\n",
    ")\n",
    "\n",
    "transformer = ColumnTransformer(\n",
    "    [\n",
    "        (\"categorical_transformer\", categorical_pipe, cat_features),\n",
    "        (\"numerical_transformer\", SimpleImputer(strategy=\"median\"), num_features)\n",
    "    ]\n",
    ")\n",
    "\n",
    "X_train_transformed = transformer.fit_transform(X_train, y_train)\n",
    "X_test_transformed = transformer.transform(X_test)\n"
   ]
  },
  {
   "cell_type": "code",
   "execution_count": 16,
   "id": "5cdcd961",
   "metadata": {
    "execution": {
     "iopub.execute_input": "2024-09-09T19:57:05.214082Z",
     "iopub.status.busy": "2024-09-09T19:57:05.213302Z",
     "iopub.status.idle": "2024-09-09T19:57:05.230128Z",
     "shell.execute_reply": "2024-09-09T19:57:05.229017Z"
    },
    "papermill": {
     "duration": 0.029963,
     "end_time": "2024-09-09T19:57:05.232838",
     "exception": false,
     "start_time": "2024-09-09T19:57:05.202875",
     "status": "completed"
    },
    "tags": []
   },
   "outputs": [
    {
     "data": {
      "text/plain": [
       "array([[2.95774654e-01, 7.00000000e+01, 0.00000000e+00, 5.82000000e+02,\n",
       "        4.00000000e+01, 0.00000000e+00, 5.10000000e+04, 2.70000000e+00,\n",
       "        1.36000000e+02, 1.00000000e+00, 1.00000000e+00, 2.50000000e+02],\n",
       "       [2.95774654e-01, 5.00000000e+01, 1.00000000e+00, 2.98000000e+02,\n",
       "        3.50000000e+01, 0.00000000e+00, 3.62000000e+05, 9.00000000e-01,\n",
       "        1.40000000e+02, 1.00000000e+00, 1.00000000e+00, 2.40000000e+02],\n",
       "       [2.98968213e-01, 4.50000000e+01, 0.00000000e+00, 2.44200000e+03,\n",
       "        3.00000000e+01, 0.00000000e+00, 3.34000000e+05, 1.10000000e+00,\n",
       "        1.39000000e+02, 1.00000000e+00, 0.00000000e+00, 1.29000000e+02],\n",
       "       [2.95774654e-01, 8.00000000e+01, 1.00000000e+00, 1.23000000e+02,\n",
       "        3.50000000e+01, 1.00000000e+00, 3.88000000e+05, 9.40000000e+00,\n",
       "        1.33000000e+02, 1.00000000e+00, 1.00000000e+00, 1.00000000e+01],\n",
       "       [2.98968213e-01, 4.20000000e+01, 0.00000000e+00, 1.02000000e+02,\n",
       "        4.00000000e+01, 0.00000000e+00, 2.37000000e+05, 1.20000000e+00,\n",
       "        1.40000000e+02, 1.00000000e+00, 0.00000000e+00, 7.40000000e+01],\n",
       "       [2.98968213e-01, 5.00000000e+01, 1.00000000e+00, 1.05100000e+03,\n",
       "        3.00000000e+01, 0.00000000e+00, 2.32000000e+05, 7.00000000e-01,\n",
       "        1.36000000e+02, 0.00000000e+00, 0.00000000e+00, 2.46000000e+02],\n",
       "       [2.95774654e-01, 6.00000000e+01, 1.00000000e+00, 1.54000000e+02,\n",
       "        2.50000000e+01, 0.00000000e+00, 2.10000000e+05, 1.70000000e+00,\n",
       "        1.35000000e+02, 1.00000000e+00, 0.00000000e+00, 8.20000000e+01],\n",
       "       [2.98968213e-01, 4.50000000e+01, 0.00000000e+00, 2.92000000e+02,\n",
       "        3.50000000e+01, 0.00000000e+00, 8.50000000e+05, 1.30000000e+00,\n",
       "        1.42000000e+02, 1.00000000e+00, 1.00000000e+00, 8.80000000e+01],\n",
       "       [2.95774654e-01, 9.00000000e+01, 1.00000000e+00, 4.70000000e+01,\n",
       "        4.00000000e+01, 1.00000000e+00, 2.04000000e+05, 2.10000000e+00,\n",
       "        1.32000000e+02, 1.00000000e+00, 1.00000000e+00, 8.00000000e+00],\n",
       "       [2.95774654e-01, 5.00000000e+01, 1.00000000e+00, 1.15000000e+02,\n",
       "        2.00000000e+01, 0.00000000e+00, 1.89000000e+05, 8.00000000e-01,\n",
       "        1.39000000e+02, 1.00000000e+00, 0.00000000e+00, 1.46000000e+02],\n",
       "       [2.95774654e-01, 7.00000000e+01, 1.00000000e+00, 5.90000000e+01,\n",
       "        6.00000000e+01, 0.00000000e+00, 2.55000000e+05, 1.10000000e+00,\n",
       "        1.36000000e+02, 0.00000000e+00, 0.00000000e+00, 8.50000000e+01],\n",
       "       [2.95774654e-01, 7.70000000e+01, 1.00000000e+00, 4.18000000e+02,\n",
       "        4.50000000e+01, 0.00000000e+00, 2.23000000e+05, 1.80000000e+00,\n",
       "        1.45000000e+02, 1.00000000e+00, 0.00000000e+00, 1.80000000e+02],\n",
       "       [2.95774654e-01, 5.80000000e+01, 1.00000000e+00, 1.45000000e+02,\n",
       "        2.50000000e+01, 0.00000000e+00, 2.19000000e+05, 1.20000000e+00,\n",
       "        1.37000000e+02, 1.00000000e+00, 1.00000000e+00, 1.70000000e+02],\n",
       "       [2.95774654e-01, 6.50000000e+01, 1.00000000e+00, 3.35000000e+02,\n",
       "        3.50000000e+01, 1.00000000e+00, 2.35000000e+05, 8.00000000e-01,\n",
       "        1.36000000e+02, 0.00000000e+00, 0.00000000e+00, 1.20000000e+02],\n",
       "       [2.95774654e-01, 6.00000000e+01, 1.00000000e+00, 6.07000000e+02,\n",
       "        4.00000000e+01, 0.00000000e+00, 2.16000000e+05, 6.00000000e-01,\n",
       "        1.38000000e+02, 1.00000000e+00, 1.00000000e+00, 5.40000000e+01],\n",
       "       [2.98968213e-01, 4.50000000e+01, 0.00000000e+00, 7.70200000e+03,\n",
       "        2.50000000e+01, 1.00000000e+00, 3.90000000e+05, 1.00000000e+00,\n",
       "        1.39000000e+02, 1.00000000e+00, 0.00000000e+00, 6.00000000e+01],\n",
       "       [2.95774654e-01, 6.40000000e+01, 0.00000000e+00, 1.61000000e+03,\n",
       "        6.00000000e+01, 0.00000000e+00, 2.42000000e+05, 1.00000000e+00,\n",
       "        1.37000000e+02, 1.00000000e+00, 0.00000000e+00, 1.13000000e+02],\n",
       "       [2.95774654e-01, 6.30000000e+01, 0.00000000e+00, 9.36000000e+02,\n",
       "        3.80000000e+01, 0.00000000e+00, 3.04000000e+05, 1.10000000e+00,\n",
       "        1.33000000e+02, 1.00000000e+00, 1.00000000e+00, 8.80000000e+01],\n",
       "       [2.95774654e-01, 4.50000000e+01, 0.00000000e+00, 5.82000000e+02,\n",
       "        3.50000000e+01, 0.00000000e+00, 3.85000000e+05, 1.00000000e+00,\n",
       "        1.45000000e+02, 1.00000000e+00, 0.00000000e+00, 6.10000000e+01],\n",
       "       [2.95774654e-01, 8.00000000e+01, 0.00000000e+00, 8.05000000e+02,\n",
       "        3.80000000e+01, 0.00000000e+00, 2.63358030e+05, 1.10000000e+00,\n",
       "        1.34000000e+02, 1.00000000e+00, 0.00000000e+00, 1.09000000e+02],\n",
       "       [2.98968213e-01, 6.00000000e+01, 1.00000000e+00, 2.31000000e+02,\n",
       "        2.50000000e+01, 0.00000000e+00, 1.94000000e+05, 1.70000000e+00,\n",
       "        1.40000000e+02, 1.00000000e+00, 0.00000000e+00, 1.20000000e+02],\n",
       "       [2.95774654e-01, 6.00000000e+01, 0.00000000e+00, 5.30000000e+01,\n",
       "        5.00000000e+01, 1.00000000e+00, 2.86000000e+05, 2.30000000e+00,\n",
       "        1.43000000e+02, 0.00000000e+00, 0.00000000e+00, 8.70000000e+01],\n",
       "       [2.95774654e-01, 6.40000000e+01, 0.00000000e+00, 1.43000000e+02,\n",
       "        2.50000000e+01, 0.00000000e+00, 2.46000000e+05, 2.40000000e+00,\n",
       "        1.35000000e+02, 1.00000000e+00, 0.00000000e+00, 2.14000000e+02],\n",
       "       [2.95774654e-01, 5.10000000e+01, 0.00000000e+00, 1.38000000e+03,\n",
       "        2.50000000e+01, 1.00000000e+00, 2.71000000e+05, 9.00000000e-01,\n",
       "        1.30000000e+02, 1.00000000e+00, 0.00000000e+00, 3.80000000e+01],\n",
       "       [2.98968213e-01, 7.00000000e+01, 0.00000000e+00, 5.71000000e+02,\n",
       "        4.50000000e+01, 1.00000000e+00, 1.85000000e+05, 1.20000000e+00,\n",
       "        1.39000000e+02, 1.00000000e+00, 1.00000000e+00, 3.30000000e+01],\n",
       "       [2.95774654e-01, 4.50000000e+01, 0.00000000e+00, 5.82000000e+02,\n",
       "        3.80000000e+01, 1.00000000e+00, 4.22000000e+05, 8.00000000e-01,\n",
       "        1.37000000e+02, 0.00000000e+00, 0.00000000e+00, 2.45000000e+02],\n",
       "       [2.98968213e-01, 7.00000000e+01, 0.00000000e+00, 2.69500000e+03,\n",
       "        4.00000000e+01, 0.00000000e+00, 2.41000000e+05, 1.00000000e+00,\n",
       "        1.37000000e+02, 1.00000000e+00, 0.00000000e+00, 2.47000000e+02],\n",
       "       [2.98968213e-01, 6.00000000e+01, 1.00000000e+00, 9.60000000e+01,\n",
       "        6.00000000e+01, 1.00000000e+00, 2.71000000e+05, 7.00000000e-01,\n",
       "        1.36000000e+02, 0.00000000e+00, 0.00000000e+00, 9.40000000e+01],\n",
       "       [2.98968213e-01, 4.80000000e+01, 1.00000000e+00, 1.31000000e+02,\n",
       "        3.00000000e+01, 1.00000000e+00, 2.44000000e+05, 1.60000000e+00,\n",
       "        1.30000000e+02, 0.00000000e+00, 0.00000000e+00, 1.93000000e+02],\n",
       "       [2.95774654e-01, 7.50000000e+01, 0.00000000e+00, 1.19000000e+02,\n",
       "        5.00000000e+01, 1.00000000e+00, 2.48000000e+05, 1.10000000e+00,\n",
       "        1.48000000e+02, 1.00000000e+00, 0.00000000e+00, 2.09000000e+02],\n",
       "       [2.95774654e-01, 4.50000000e+01, 0.00000000e+00, 5.82000000e+02,\n",
       "        1.40000000e+01, 0.00000000e+00, 1.66000000e+05, 8.00000000e-01,\n",
       "        1.27000000e+02, 1.00000000e+00, 0.00000000e+00, 1.40000000e+01],\n",
       "       [2.95774654e-01, 5.50000000e+01, 1.00000000e+00, 1.80000000e+02,\n",
       "        4.50000000e+01, 0.00000000e+00, 2.63358030e+05, 1.18000000e+00,\n",
       "        1.37000000e+02, 1.00000000e+00, 1.00000000e+00, 2.11000000e+02],\n",
       "       [2.98968213e-01, 5.00000000e+01, 1.00000000e+00, 1.59000000e+02,\n",
       "        3.00000000e+01, 0.00000000e+00, 3.02000000e+05, 1.20000000e+00,\n",
       "        1.38000000e+02, 0.00000000e+00, 0.00000000e+00, 2.90000000e+01],\n",
       "       [2.98968213e-01, 7.50000000e+01, 0.00000000e+00, 5.82000000e+02,\n",
       "        3.00000000e+01, 1.00000000e+00, 2.63358030e+05, 1.83000000e+00,\n",
       "        1.34000000e+02, 0.00000000e+00, 0.00000000e+00, 2.30000000e+01],\n",
       "       [2.98968213e-01, 5.00000000e+01, 0.00000000e+00, 5.82000000e+02,\n",
       "        3.80000000e+01, 0.00000000e+00, 3.10000000e+05, 1.90000000e+00,\n",
       "        1.35000000e+02, 1.00000000e+00, 1.00000000e+00, 3.50000000e+01],\n",
       "       [2.98968213e-01, 6.00000000e+01, 1.00000000e+00, 3.15000000e+02,\n",
       "        6.00000000e+01, 0.00000000e+00, 4.54000000e+05, 1.10000000e+00,\n",
       "        1.31000000e+02, 1.00000000e+00, 1.00000000e+00, 1.00000000e+01],\n",
       "       [2.95774654e-01, 7.00000000e+01, 1.00000000e+00, 1.43000000e+02,\n",
       "        6.00000000e+01, 0.00000000e+00, 3.51000000e+05, 1.30000000e+00,\n",
       "        1.37000000e+02, 0.00000000e+00, 0.00000000e+00, 9.00000000e+01],\n",
       "       [2.95774654e-01, 4.50000000e+01, 0.00000000e+00, 5.82000000e+02,\n",
       "        2.00000000e+01, 1.00000000e+00, 1.26000000e+05, 1.60000000e+00,\n",
       "        1.35000000e+02, 1.00000000e+00, 0.00000000e+00, 1.80000000e+02],\n",
       "       [2.95774654e-01, 5.50000000e+01, 0.00000000e+00, 6.00000000e+01,\n",
       "        3.50000000e+01, 0.00000000e+00, 2.28000000e+05, 1.20000000e+00,\n",
       "        1.35000000e+02, 1.00000000e+00, 1.00000000e+00, 9.00000000e+01],\n",
       "       [2.95774654e-01, 4.20000000e+01, 0.00000000e+00, 5.82000000e+02,\n",
       "        6.00000000e+01, 0.00000000e+00, 2.63358030e+05, 1.18000000e+00,\n",
       "        1.37000000e+02, 0.00000000e+00, 0.00000000e+00, 8.20000000e+01],\n",
       "       [2.95774654e-01, 6.00000000e+01, 1.00000000e+00, 4.70000000e+01,\n",
       "        2.00000000e+01, 0.00000000e+00, 2.04000000e+05, 7.00000000e-01,\n",
       "        1.39000000e+02, 1.00000000e+00, 1.00000000e+00, 7.30000000e+01],\n",
       "       [2.98968213e-01, 6.00000000e+01, 1.00000000e+00, 7.60000000e+01,\n",
       "        2.50000000e+01, 0.00000000e+00, 1.96000000e+05, 2.50000000e+00,\n",
       "        1.32000000e+02, 0.00000000e+00, 0.00000000e+00, 7.70000000e+01],\n",
       "       [2.98968213e-01, 6.50000000e+01, 1.00000000e+00, 1.13000000e+02,\n",
       "        6.00000000e+01, 1.00000000e+00, 2.03000000e+05, 9.00000000e-01,\n",
       "        1.40000000e+02, 0.00000000e+00, 0.00000000e+00, 9.40000000e+01],\n",
       "       [2.95774654e-01, 7.00000000e+01, 0.00000000e+00, 9.20000000e+01,\n",
       "        6.00000000e+01, 1.00000000e+00, 3.17000000e+05, 8.00000000e-01,\n",
       "        1.40000000e+02, 0.00000000e+00, 1.00000000e+00, 7.40000000e+01],\n",
       "       [2.98968213e-01, 5.30000000e+01, 1.00000000e+00, 2.70000000e+02,\n",
       "        3.50000000e+01, 0.00000000e+00, 2.27000000e+05, 3.40000000e+00,\n",
       "        1.45000000e+02, 1.00000000e+00, 0.00000000e+00, 1.05000000e+02],\n",
       "       [2.95774654e-01, 6.50000000e+01, 0.00000000e+00, 1.67000000e+02,\n",
       "        3.00000000e+01, 0.00000000e+00, 2.59000000e+05, 8.00000000e-01,\n",
       "        1.38000000e+02, 0.00000000e+00, 0.00000000e+00, 1.86000000e+02],\n",
       "       [2.98968213e-01, 7.00000000e+01, 0.00000000e+00, 2.12000000e+02,\n",
       "        1.70000000e+01, 1.00000000e+00, 3.89000000e+05, 1.00000000e+00,\n",
       "        1.36000000e+02, 1.00000000e+00, 1.00000000e+00, 1.88000000e+02],\n",
       "       [2.98968213e-01, 6.50000000e+01, 0.00000000e+00, 8.92000000e+02,\n",
       "        3.50000000e+01, 0.00000000e+00, 2.63358030e+05, 1.10000000e+00,\n",
       "        1.42000000e+02, 0.00000000e+00, 0.00000000e+00, 2.56000000e+02],\n",
       "       [2.98968213e-01, 5.50000000e+01, 0.00000000e+00, 5.82000000e+02,\n",
       "        3.50000000e+01, 1.00000000e+00, 3.71000000e+05, 7.00000000e-01,\n",
       "        1.40000000e+02, 0.00000000e+00, 0.00000000e+00, 1.97000000e+02],\n",
       "       [2.98968213e-01, 6.30000000e+01, 1.00000000e+00, 1.22000000e+02,\n",
       "        6.00000000e+01, 0.00000000e+00, 2.67000000e+05, 1.20000000e+00,\n",
       "        1.45000000e+02, 1.00000000e+00, 0.00000000e+00, 1.47000000e+02],\n",
       "       [2.95774654e-01, 7.20000000e+01, 1.00000000e+00, 9.43000000e+02,\n",
       "        2.50000000e+01, 1.00000000e+00, 3.38000000e+05, 1.70000000e+00,\n",
       "        1.39000000e+02, 1.00000000e+00, 1.00000000e+00, 1.11000000e+02],\n",
       "       [2.95774654e-01, 5.00000000e+01, 0.00000000e+00, 5.82000000e+02,\n",
       "        5.00000000e+01, 0.00000000e+00, 1.53000000e+05, 6.00000000e-01,\n",
       "        1.34000000e+02, 0.00000000e+00, 0.00000000e+00, 1.72000000e+02],\n",
       "       [2.98968213e-01, 5.90000000e+01, 1.00000000e+00, 2.80000000e+02,\n",
       "        2.50000000e+01, 1.00000000e+00, 3.02000000e+05, 1.00000000e+00,\n",
       "        1.41000000e+02, 0.00000000e+00, 0.00000000e+00, 7.80000000e+01],\n",
       "       [2.95774654e-01, 4.00000000e+01, 0.00000000e+00, 6.24000000e+02,\n",
       "        3.50000000e+01, 0.00000000e+00, 3.01000000e+05, 1.00000000e+00,\n",
       "        1.42000000e+02, 1.00000000e+00, 1.00000000e+00, 2.14000000e+02],\n",
       "       [2.98968213e-01, 7.00000000e+01, 0.00000000e+00, 5.82000000e+02,\n",
       "        3.80000000e+01, 0.00000000e+00, 2.51000000e+04, 1.10000000e+00,\n",
       "        1.40000000e+02, 1.00000000e+00, 0.00000000e+00, 2.46000000e+02],\n",
       "       [2.98968213e-01, 6.50000000e+01, 0.00000000e+00, 2.24000000e+02,\n",
       "        5.00000000e+01, 0.00000000e+00, 1.49000000e+05, 1.30000000e+00,\n",
       "        1.37000000e+02, 1.00000000e+00, 1.00000000e+00, 7.20000000e+01],\n",
       "       [2.98968213e-01, 5.40000000e+01, 0.00000000e+00, 5.82000000e+02,\n",
       "        3.80000000e+01, 0.00000000e+00, 2.64000000e+05, 1.80000000e+00,\n",
       "        1.34000000e+02, 1.00000000e+00, 0.00000000e+00, 2.13000000e+02],\n",
       "       [2.98968213e-01, 8.00000000e+01, 0.00000000e+00, 1.48000000e+02,\n",
       "        3.80000000e+01, 0.00000000e+00, 1.49000000e+05, 1.90000000e+00,\n",
       "        1.44000000e+02, 1.00000000e+00, 1.00000000e+00, 2.30000000e+01],\n",
       "       [2.98968213e-01, 4.90000000e+01, 0.00000000e+00, 9.72000000e+02,\n",
       "        3.50000000e+01, 1.00000000e+00, 2.68000000e+05, 8.00000000e-01,\n",
       "        1.30000000e+02, 0.00000000e+00, 0.00000000e+00, 1.87000000e+02],\n",
       "       [2.98968213e-01, 7.20000000e+01, 0.00000000e+00, 3.64000000e+02,\n",
       "        2.00000000e+01, 1.00000000e+00, 2.54000000e+05, 1.30000000e+00,\n",
       "        1.36000000e+02, 1.00000000e+00, 1.00000000e+00, 5.90000000e+01]])"
      ]
     },
     "execution_count": 16,
     "metadata": {},
     "output_type": "execute_result"
    }
   ],
   "source": [
    "# Os dados foram todos transformados em matrizes para poderem ser treinados.\n",
    "\n",
    "X_test_transformed"
   ]
  },
  {
   "cell_type": "code",
   "execution_count": 17,
   "id": "f73142e4",
   "metadata": {
    "execution": {
     "iopub.execute_input": "2024-09-09T19:57:05.254407Z",
     "iopub.status.busy": "2024-09-09T19:57:05.253257Z",
     "iopub.status.idle": "2024-09-09T19:57:05.258969Z",
     "shell.execute_reply": "2024-09-09T19:57:05.257827Z"
    },
    "papermill": {
     "duration": 0.019199,
     "end_time": "2024-09-09T19:57:05.261435",
     "exception": false,
     "start_time": "2024-09-09T19:57:05.242236",
     "status": "completed"
    },
    "tags": []
   },
   "outputs": [],
   "source": [
    "tree = DecisionTreeClassifier()"
   ]
  },
  {
   "cell_type": "code",
   "execution_count": 18,
   "id": "9941d14b",
   "metadata": {
    "execution": {
     "iopub.execute_input": "2024-09-09T19:57:05.281912Z",
     "iopub.status.busy": "2024-09-09T19:57:05.281348Z",
     "iopub.status.idle": "2024-09-09T19:57:05.295046Z",
     "shell.execute_reply": "2024-09-09T19:57:05.293786Z"
    },
    "papermill": {
     "duration": 0.026525,
     "end_time": "2024-09-09T19:57:05.297538",
     "exception": false,
     "start_time": "2024-09-09T19:57:05.271013",
     "status": "completed"
    },
    "tags": []
   },
   "outputs": [
    {
     "data": {
      "text/html": [
       "<style>#sk-container-id-1 {color: black;background-color: white;}#sk-container-id-1 pre{padding: 0;}#sk-container-id-1 div.sk-toggleable {background-color: white;}#sk-container-id-1 label.sk-toggleable__label {cursor: pointer;display: block;width: 100%;margin-bottom: 0;padding: 0.3em;box-sizing: border-box;text-align: center;}#sk-container-id-1 label.sk-toggleable__label-arrow:before {content: \"▸\";float: left;margin-right: 0.25em;color: #696969;}#sk-container-id-1 label.sk-toggleable__label-arrow:hover:before {color: black;}#sk-container-id-1 div.sk-estimator:hover label.sk-toggleable__label-arrow:before {color: black;}#sk-container-id-1 div.sk-toggleable__content {max-height: 0;max-width: 0;overflow: hidden;text-align: left;background-color: #f0f8ff;}#sk-container-id-1 div.sk-toggleable__content pre {margin: 0.2em;color: black;border-radius: 0.25em;background-color: #f0f8ff;}#sk-container-id-1 input.sk-toggleable__control:checked~div.sk-toggleable__content {max-height: 200px;max-width: 100%;overflow: auto;}#sk-container-id-1 input.sk-toggleable__control:checked~label.sk-toggleable__label-arrow:before {content: \"▾\";}#sk-container-id-1 div.sk-estimator input.sk-toggleable__control:checked~label.sk-toggleable__label {background-color: #d4ebff;}#sk-container-id-1 div.sk-label input.sk-toggleable__control:checked~label.sk-toggleable__label {background-color: #d4ebff;}#sk-container-id-1 input.sk-hidden--visually {border: 0;clip: rect(1px 1px 1px 1px);clip: rect(1px, 1px, 1px, 1px);height: 1px;margin: -1px;overflow: hidden;padding: 0;position: absolute;width: 1px;}#sk-container-id-1 div.sk-estimator {font-family: monospace;background-color: #f0f8ff;border: 1px dotted black;border-radius: 0.25em;box-sizing: border-box;margin-bottom: 0.5em;}#sk-container-id-1 div.sk-estimator:hover {background-color: #d4ebff;}#sk-container-id-1 div.sk-parallel-item::after {content: \"\";width: 100%;border-bottom: 1px solid gray;flex-grow: 1;}#sk-container-id-1 div.sk-label:hover label.sk-toggleable__label {background-color: #d4ebff;}#sk-container-id-1 div.sk-serial::before {content: \"\";position: absolute;border-left: 1px solid gray;box-sizing: border-box;top: 0;bottom: 0;left: 50%;z-index: 0;}#sk-container-id-1 div.sk-serial {display: flex;flex-direction: column;align-items: center;background-color: white;padding-right: 0.2em;padding-left: 0.2em;position: relative;}#sk-container-id-1 div.sk-item {position: relative;z-index: 1;}#sk-container-id-1 div.sk-parallel {display: flex;align-items: stretch;justify-content: center;background-color: white;position: relative;}#sk-container-id-1 div.sk-item::before, #sk-container-id-1 div.sk-parallel-item::before {content: \"\";position: absolute;border-left: 1px solid gray;box-sizing: border-box;top: 0;bottom: 0;left: 50%;z-index: -1;}#sk-container-id-1 div.sk-parallel-item {display: flex;flex-direction: column;z-index: 1;position: relative;background-color: white;}#sk-container-id-1 div.sk-parallel-item:first-child::after {align-self: flex-end;width: 50%;}#sk-container-id-1 div.sk-parallel-item:last-child::after {align-self: flex-start;width: 50%;}#sk-container-id-1 div.sk-parallel-item:only-child::after {width: 0;}#sk-container-id-1 div.sk-dashed-wrapped {border: 1px dashed gray;margin: 0 0.4em 0.5em 0.4em;box-sizing: border-box;padding-bottom: 0.4em;background-color: white;}#sk-container-id-1 div.sk-label label {font-family: monospace;font-weight: bold;display: inline-block;line-height: 1.2em;}#sk-container-id-1 div.sk-label-container {text-align: center;}#sk-container-id-1 div.sk-container {/* jupyter's `normalize.less` sets `[hidden] { display: none; }` but bootstrap.min.css set `[hidden] { display: none !important; }` so we also need the `!important` here to be able to override the default hidden behavior on the sphinx rendered scikit-learn.org. See: https://github.com/scikit-learn/scikit-learn/issues/21755 */display: inline-block !important;position: relative;}#sk-container-id-1 div.sk-text-repr-fallback {display: none;}</style><div id=\"sk-container-id-1\" class=\"sk-top-container\"><div class=\"sk-text-repr-fallback\"><pre>DecisionTreeClassifier()</pre><b>In a Jupyter environment, please rerun this cell to show the HTML representation or trust the notebook. <br />On GitHub, the HTML representation is unable to render, please try loading this page with nbviewer.org.</b></div><div class=\"sk-container\" hidden><div class=\"sk-item\"><div class=\"sk-estimator sk-toggleable\"><input class=\"sk-toggleable__control sk-hidden--visually\" id=\"sk-estimator-id-1\" type=\"checkbox\" checked><label for=\"sk-estimator-id-1\" class=\"sk-toggleable__label sk-toggleable__label-arrow\">DecisionTreeClassifier</label><div class=\"sk-toggleable__content\"><pre>DecisionTreeClassifier()</pre></div></div></div></div></div>"
      ],
      "text/plain": [
       "DecisionTreeClassifier()"
      ]
     },
     "execution_count": 18,
     "metadata": {},
     "output_type": "execute_result"
    }
   ],
   "source": [
    "tree.fit(X_train_transformed, y_train)"
   ]
  },
  {
   "cell_type": "code",
   "execution_count": 19,
   "id": "43129f18",
   "metadata": {
    "execution": {
     "iopub.execute_input": "2024-09-09T19:57:05.318825Z",
     "iopub.status.busy": "2024-09-09T19:57:05.318359Z",
     "iopub.status.idle": "2024-09-09T19:57:05.324049Z",
     "shell.execute_reply": "2024-09-09T19:57:05.323012Z"
    },
    "papermill": {
     "duration": 0.018899,
     "end_time": "2024-09-09T19:57:05.326515",
     "exception": false,
     "start_time": "2024-09-09T19:57:05.307616",
     "status": "completed"
    },
    "tags": []
   },
   "outputs": [],
   "source": [
    "y_pred = tree.predict(X_test_transformed)"
   ]
  },
  {
   "cell_type": "code",
   "execution_count": 20,
   "id": "047ca59c",
   "metadata": {
    "execution": {
     "iopub.execute_input": "2024-09-09T19:57:05.348832Z",
     "iopub.status.busy": "2024-09-09T19:57:05.347469Z",
     "iopub.status.idle": "2024-09-09T19:57:05.355532Z",
     "shell.execute_reply": "2024-09-09T19:57:05.354651Z"
    },
    "papermill": {
     "duration": 0.021383,
     "end_time": "2024-09-09T19:57:05.357967",
     "exception": false,
     "start_time": "2024-09-09T19:57:05.336584",
     "status": "completed"
    },
    "tags": []
   },
   "outputs": [
    {
     "data": {
      "text/plain": [
       "array([1, 0, 0, 1, 0, 0, 1, 0, 1, 0, 0, 0, 0, 0, 1, 0, 0, 0, 1, 0, 1, 0,\n",
       "       1, 1, 1, 0, 0, 0, 0, 0, 0, 0, 1, 1, 0, 0, 0, 0, 0, 0, 1, 1, 0, 0,\n",
       "       1, 0, 0, 0, 0, 0, 1, 0, 0, 0, 0, 1, 0, 1, 0, 1])"
      ]
     },
     "execution_count": 20,
     "metadata": {},
     "output_type": "execute_result"
    }
   ],
   "source": [
    "y_pred"
   ]
  },
  {
   "cell_type": "code",
   "execution_count": 21,
   "id": "c8e2235f",
   "metadata": {
    "execution": {
     "iopub.execute_input": "2024-09-09T19:57:05.379179Z",
     "iopub.status.busy": "2024-09-09T19:57:05.378413Z",
     "iopub.status.idle": "2024-09-09T19:57:05.385751Z",
     "shell.execute_reply": "2024-09-09T19:57:05.384727Z"
    },
    "papermill": {
     "duration": 0.020545,
     "end_time": "2024-09-09T19:57:05.388124",
     "exception": false,
     "start_time": "2024-09-09T19:57:05.367579",
     "status": "completed"
    },
    "tags": []
   },
   "outputs": [
    {
     "data": {
      "text/plain": [
       "array([0, 0, 1, 1, 0, 0, 1, 0, 1, 0, 0, 1, 1, 0, 0, 1, 0, 0, 1, 1, 0, 0,\n",
       "       0, 1, 1, 0, 0, 0, 1, 0, 1, 0, 0, 1, 1, 1, 1, 1, 0, 0, 1, 1, 0, 0,\n",
       "       0, 0, 0, 0, 0, 0, 1, 1, 1, 0, 0, 0, 0, 1, 0, 1])"
      ]
     },
     "execution_count": 21,
     "metadata": {},
     "output_type": "execute_result"
    }
   ],
   "source": [
    "y_test.values"
   ]
  },
  {
   "cell_type": "code",
   "execution_count": 22,
   "id": "fb171717",
   "metadata": {
    "execution": {
     "iopub.execute_input": "2024-09-09T19:57:05.409355Z",
     "iopub.status.busy": "2024-09-09T19:57:05.408932Z",
     "iopub.status.idle": "2024-09-09T19:57:05.430964Z",
     "shell.execute_reply": "2024-09-09T19:57:05.429681Z"
    },
    "papermill": {
     "duration": 0.035768,
     "end_time": "2024-09-09T19:57:05.433649",
     "exception": false,
     "start_time": "2024-09-09T19:57:05.397881",
     "status": "completed"
    },
    "tags": []
   },
   "outputs": [
    {
     "name": "stdout",
     "output_type": "stream",
     "text": [
      "Acurácia: 0.67\n",
      "Recall: 0.48\n",
      "Precision: 0.63\n",
      "F1-Score: 0.55\n",
      "ROC/AUC: 0.64\n"
     ]
    }
   ],
   "source": [
    "from sklearn.metrics import (\n",
    "    accuracy_score,\n",
    "    roc_auc_score,\n",
    "    f1_score,\n",
    "    precision_score,\n",
    "    recall_score,\n",
    ")\n",
    "\n",
    "print(f\"Acurácia: {accuracy_score(y_test, y_pred):.2f}\")\n",
    "print(f\"Recall: {recall_score(y_test, y_pred):.2f}\")\n",
    "print(f\"Precision: {precision_score(y_test, y_pred):.2f}\")\n",
    "print(f\"F1-Score: {f1_score(y_test, y_pred):.2f}\")\n",
    "print(f\"ROC/AUC: {roc_auc_score(y_test, y_pred):.2f}\")\n",
    "\n",
    "\n",
    "      "
   ]
  },
  {
   "cell_type": "markdown",
   "id": "b74d9917",
   "metadata": {
    "papermill": {
     "duration": 0.009843,
     "end_time": "2024-09-09T19:57:05.453651",
     "exception": false,
     "start_time": "2024-09-09T19:57:05.443808",
     "status": "completed"
    },
    "tags": []
   },
   "source": []
  }
 ],
 "metadata": {
  "kaggle": {
   "accelerator": "none",
   "dataSources": [
    {
     "datasetId": 727551,
     "sourceId": 1263738,
     "sourceType": "datasetVersion"
    }
   ],
   "dockerImageVersionId": 30761,
   "isGpuEnabled": false,
   "isInternetEnabled": true,
   "language": "python",
   "sourceType": "notebook"
  },
  "kernelspec": {
   "display_name": "Python 3",
   "language": "python",
   "name": "python3"
  },
  "language_info": {
   "codemirror_mode": {
    "name": "ipython",
    "version": 3
   },
   "file_extension": ".py",
   "mimetype": "text/x-python",
   "name": "python",
   "nbconvert_exporter": "python",
   "pygments_lexer": "ipython3",
   "version": "3.10.14"
  },
  "papermill": {
   "default_parameters": {},
   "duration": 7.724431,
   "end_time": "2024-09-09T19:57:06.086085",
   "environment_variables": {},
   "exception": null,
   "input_path": "__notebook__.ipynb",
   "output_path": "__notebook__.ipynb",
   "parameters": {},
   "start_time": "2024-09-09T19:56:58.361654",
   "version": "2.6.0"
  }
 },
 "nbformat": 4,
 "nbformat_minor": 5
}
